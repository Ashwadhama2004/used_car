{
 "cells": [
  {
   "cell_type": "code",
   "execution_count": null,
   "metadata": {},
   "outputs": [],
   "source": []
  },
  {
   "cell_type": "code",
   "execution_count": 336,
   "metadata": {},
   "outputs": [
    {
     "name": "stdout",
     "output_type": "stream",
     "text": [
      "hello\n"
     ]
    }
   ],
   "source": [
    "print(\"hello\")"
   ]
  },
  {
   "cell_type": "code",
   "execution_count": 337,
   "metadata": {},
   "outputs": [],
   "source": [
    "import pandas as pd\n",
    "import numpy as np\n",
    "from sklearn.metrics import r2_score\n",
    "from sklearn.preprocessing import OneHotEncoder,LabelEncoder,StandardScaler\n",
    "from sklearn.model_selection import train_test_split,cross_val_score\n",
    "from sklearn.ensemble import RandomForestRegressor\n"
   ]
  },
  {
   "cell_type": "code",
   "execution_count": 338,
   "metadata": {},
   "outputs": [],
   "source": [
    "dataset=pd.read_csv(\"train.csv\")"
   ]
  },
  {
   "cell_type": "code",
   "execution_count": 339,
   "metadata": {},
   "outputs": [
    {
     "data": {
      "text/html": [
       "<div>\n",
       "<style scoped>\n",
       "    .dataframe tbody tr th:only-of-type {\n",
       "        vertical-align: middle;\n",
       "    }\n",
       "\n",
       "    .dataframe tbody tr th {\n",
       "        vertical-align: top;\n",
       "    }\n",
       "\n",
       "    .dataframe thead th {\n",
       "        text-align: right;\n",
       "    }\n",
       "</style>\n",
       "<table border=\"1\" class=\"dataframe\">\n",
       "  <thead>\n",
       "    <tr style=\"text-align: right;\">\n",
       "      <th></th>\n",
       "      <th>id</th>\n",
       "      <th>brand</th>\n",
       "      <th>model</th>\n",
       "      <th>model_year</th>\n",
       "      <th>milage</th>\n",
       "      <th>fuel_type</th>\n",
       "      <th>engine</th>\n",
       "      <th>transmission</th>\n",
       "      <th>ext_col</th>\n",
       "      <th>int_col</th>\n",
       "      <th>accident</th>\n",
       "      <th>clean_title</th>\n",
       "      <th>price</th>\n",
       "    </tr>\n",
       "  </thead>\n",
       "  <tbody>\n",
       "    <tr>\n",
       "      <th>0</th>\n",
       "      <td>0</td>\n",
       "      <td>MINI</td>\n",
       "      <td>Cooper S Base</td>\n",
       "      <td>2007</td>\n",
       "      <td>213000</td>\n",
       "      <td>Gasoline</td>\n",
       "      <td>172.0HP 1.6L 4 Cylinder Engine Gasoline Fuel</td>\n",
       "      <td>A/T</td>\n",
       "      <td>Yellow</td>\n",
       "      <td>Gray</td>\n",
       "      <td>None reported</td>\n",
       "      <td>Yes</td>\n",
       "      <td>4200</td>\n",
       "    </tr>\n",
       "    <tr>\n",
       "      <th>1</th>\n",
       "      <td>1</td>\n",
       "      <td>Lincoln</td>\n",
       "      <td>LS V8</td>\n",
       "      <td>2002</td>\n",
       "      <td>143250</td>\n",
       "      <td>Gasoline</td>\n",
       "      <td>252.0HP 3.9L 8 Cylinder Engine Gasoline Fuel</td>\n",
       "      <td>A/T</td>\n",
       "      <td>Silver</td>\n",
       "      <td>Beige</td>\n",
       "      <td>At least 1 accident or damage reported</td>\n",
       "      <td>Yes</td>\n",
       "      <td>4999</td>\n",
       "    </tr>\n",
       "    <tr>\n",
       "      <th>2</th>\n",
       "      <td>2</td>\n",
       "      <td>Chevrolet</td>\n",
       "      <td>Silverado 2500 LT</td>\n",
       "      <td>2002</td>\n",
       "      <td>136731</td>\n",
       "      <td>E85 Flex Fuel</td>\n",
       "      <td>320.0HP 5.3L 8 Cylinder Engine Flex Fuel Capab...</td>\n",
       "      <td>A/T</td>\n",
       "      <td>Blue</td>\n",
       "      <td>Gray</td>\n",
       "      <td>None reported</td>\n",
       "      <td>Yes</td>\n",
       "      <td>13900</td>\n",
       "    </tr>\n",
       "    <tr>\n",
       "      <th>3</th>\n",
       "      <td>3</td>\n",
       "      <td>Genesis</td>\n",
       "      <td>G90 5.0 Ultimate</td>\n",
       "      <td>2017</td>\n",
       "      <td>19500</td>\n",
       "      <td>Gasoline</td>\n",
       "      <td>420.0HP 5.0L 8 Cylinder Engine Gasoline Fuel</td>\n",
       "      <td>Transmission w/Dual Shift Mode</td>\n",
       "      <td>Black</td>\n",
       "      <td>Black</td>\n",
       "      <td>None reported</td>\n",
       "      <td>Yes</td>\n",
       "      <td>45000</td>\n",
       "    </tr>\n",
       "    <tr>\n",
       "      <th>4</th>\n",
       "      <td>4</td>\n",
       "      <td>Mercedes-Benz</td>\n",
       "      <td>Metris Base</td>\n",
       "      <td>2021</td>\n",
       "      <td>7388</td>\n",
       "      <td>Gasoline</td>\n",
       "      <td>208.0HP 2.0L 4 Cylinder Engine Gasoline Fuel</td>\n",
       "      <td>7-Speed A/T</td>\n",
       "      <td>Black</td>\n",
       "      <td>Beige</td>\n",
       "      <td>None reported</td>\n",
       "      <td>Yes</td>\n",
       "      <td>97500</td>\n",
       "    </tr>\n",
       "  </tbody>\n",
       "</table>\n",
       "</div>"
      ],
      "text/plain": [
       "   id          brand              model  model_year  milage      fuel_type  \\\n",
       "0   0           MINI      Cooper S Base        2007  213000       Gasoline   \n",
       "1   1        Lincoln              LS V8        2002  143250       Gasoline   \n",
       "2   2      Chevrolet  Silverado 2500 LT        2002  136731  E85 Flex Fuel   \n",
       "3   3        Genesis   G90 5.0 Ultimate        2017   19500       Gasoline   \n",
       "4   4  Mercedes-Benz        Metris Base        2021    7388       Gasoline   \n",
       "\n",
       "                                              engine  \\\n",
       "0       172.0HP 1.6L 4 Cylinder Engine Gasoline Fuel   \n",
       "1       252.0HP 3.9L 8 Cylinder Engine Gasoline Fuel   \n",
       "2  320.0HP 5.3L 8 Cylinder Engine Flex Fuel Capab...   \n",
       "3       420.0HP 5.0L 8 Cylinder Engine Gasoline Fuel   \n",
       "4       208.0HP 2.0L 4 Cylinder Engine Gasoline Fuel   \n",
       "\n",
       "                     transmission ext_col int_col  \\\n",
       "0                             A/T  Yellow    Gray   \n",
       "1                             A/T  Silver   Beige   \n",
       "2                             A/T    Blue    Gray   \n",
       "3  Transmission w/Dual Shift Mode   Black   Black   \n",
       "4                     7-Speed A/T   Black   Beige   \n",
       "\n",
       "                                 accident clean_title  price  \n",
       "0                           None reported         Yes   4200  \n",
       "1  At least 1 accident or damage reported         Yes   4999  \n",
       "2                           None reported         Yes  13900  \n",
       "3                           None reported         Yes  45000  \n",
       "4                           None reported         Yes  97500  "
      ]
     },
     "execution_count": 339,
     "metadata": {},
     "output_type": "execute_result"
    }
   ],
   "source": [
    "dataset.head()"
   ]
  },
  {
   "cell_type": "code",
   "execution_count": 340,
   "metadata": {},
   "outputs": [
    {
     "data": {
      "text/plain": [
       "(188533, 13)"
      ]
     },
     "execution_count": 340,
     "metadata": {},
     "output_type": "execute_result"
    }
   ],
   "source": [
    "dataset.shape"
   ]
  },
  {
   "cell_type": "code",
   "execution_count": 341,
   "metadata": {},
   "outputs": [
    {
     "data": {
      "text/html": [
       "<div>\n",
       "<style scoped>\n",
       "    .dataframe tbody tr th:only-of-type {\n",
       "        vertical-align: middle;\n",
       "    }\n",
       "\n",
       "    .dataframe tbody tr th {\n",
       "        vertical-align: top;\n",
       "    }\n",
       "\n",
       "    .dataframe thead th {\n",
       "        text-align: right;\n",
       "    }\n",
       "</style>\n",
       "<table border=\"1\" class=\"dataframe\">\n",
       "  <thead>\n",
       "    <tr style=\"text-align: right;\">\n",
       "      <th></th>\n",
       "      <th>id</th>\n",
       "      <th>model_year</th>\n",
       "      <th>milage</th>\n",
       "      <th>price</th>\n",
       "    </tr>\n",
       "  </thead>\n",
       "  <tbody>\n",
       "    <tr>\n",
       "      <th>count</th>\n",
       "      <td>188533.000000</td>\n",
       "      <td>188533.000000</td>\n",
       "      <td>188533.000000</td>\n",
       "      <td>1.885330e+05</td>\n",
       "    </tr>\n",
       "    <tr>\n",
       "      <th>mean</th>\n",
       "      <td>94266.000000</td>\n",
       "      <td>2015.829998</td>\n",
       "      <td>65705.295174</td>\n",
       "      <td>4.387802e+04</td>\n",
       "    </tr>\n",
       "    <tr>\n",
       "      <th>std</th>\n",
       "      <td>54424.933488</td>\n",
       "      <td>5.660967</td>\n",
       "      <td>49798.158076</td>\n",
       "      <td>7.881952e+04</td>\n",
       "    </tr>\n",
       "    <tr>\n",
       "      <th>min</th>\n",
       "      <td>0.000000</td>\n",
       "      <td>1974.000000</td>\n",
       "      <td>100.000000</td>\n",
       "      <td>2.000000e+03</td>\n",
       "    </tr>\n",
       "    <tr>\n",
       "      <th>25%</th>\n",
       "      <td>47133.000000</td>\n",
       "      <td>2013.000000</td>\n",
       "      <td>24115.000000</td>\n",
       "      <td>1.700000e+04</td>\n",
       "    </tr>\n",
       "    <tr>\n",
       "      <th>50%</th>\n",
       "      <td>94266.000000</td>\n",
       "      <td>2017.000000</td>\n",
       "      <td>57785.000000</td>\n",
       "      <td>3.082500e+04</td>\n",
       "    </tr>\n",
       "    <tr>\n",
       "      <th>75%</th>\n",
       "      <td>141399.000000</td>\n",
       "      <td>2020.000000</td>\n",
       "      <td>95400.000000</td>\n",
       "      <td>4.990000e+04</td>\n",
       "    </tr>\n",
       "    <tr>\n",
       "      <th>max</th>\n",
       "      <td>188532.000000</td>\n",
       "      <td>2024.000000</td>\n",
       "      <td>405000.000000</td>\n",
       "      <td>2.954083e+06</td>\n",
       "    </tr>\n",
       "  </tbody>\n",
       "</table>\n",
       "</div>"
      ],
      "text/plain": [
       "                  id     model_year         milage         price\n",
       "count  188533.000000  188533.000000  188533.000000  1.885330e+05\n",
       "mean    94266.000000    2015.829998   65705.295174  4.387802e+04\n",
       "std     54424.933488       5.660967   49798.158076  7.881952e+04\n",
       "min         0.000000    1974.000000     100.000000  2.000000e+03\n",
       "25%     47133.000000    2013.000000   24115.000000  1.700000e+04\n",
       "50%     94266.000000    2017.000000   57785.000000  3.082500e+04\n",
       "75%    141399.000000    2020.000000   95400.000000  4.990000e+04\n",
       "max    188532.000000    2024.000000  405000.000000  2.954083e+06"
      ]
     },
     "execution_count": 341,
     "metadata": {},
     "output_type": "execute_result"
    }
   ],
   "source": [
    "dataset.describe()"
   ]
  },
  {
   "cell_type": "code",
   "execution_count": 342,
   "metadata": {},
   "outputs": [
    {
     "name": "stdout",
     "output_type": "stream",
     "text": [
      "<class 'pandas.core.frame.DataFrame'>\n",
      "RangeIndex: 188533 entries, 0 to 188532\n",
      "Data columns (total 13 columns):\n",
      " #   Column        Non-Null Count   Dtype \n",
      "---  ------        --------------   ----- \n",
      " 0   id            188533 non-null  int64 \n",
      " 1   brand         188533 non-null  object\n",
      " 2   model         188533 non-null  object\n",
      " 3   model_year    188533 non-null  int64 \n",
      " 4   milage        188533 non-null  int64 \n",
      " 5   fuel_type     183450 non-null  object\n",
      " 6   engine        188533 non-null  object\n",
      " 7   transmission  188533 non-null  object\n",
      " 8   ext_col       188533 non-null  object\n",
      " 9   int_col       188533 non-null  object\n",
      " 10  accident      186081 non-null  object\n",
      " 11  clean_title   167114 non-null  object\n",
      " 12  price         188533 non-null  int64 \n",
      "dtypes: int64(4), object(9)\n",
      "memory usage: 18.7+ MB\n"
     ]
    }
   ],
   "source": [
    "dataset.info()"
   ]
  },
  {
   "cell_type": "code",
   "execution_count": 343,
   "metadata": {},
   "outputs": [
    {
     "data": {
      "text/plain": [
       "id                  0\n",
       "brand               0\n",
       "model               0\n",
       "model_year          0\n",
       "milage              0\n",
       "fuel_type        5083\n",
       "engine              0\n",
       "transmission        0\n",
       "ext_col             0\n",
       "int_col             0\n",
       "accident         2452\n",
       "clean_title     21419\n",
       "price               0\n",
       "dtype: int64"
      ]
     },
     "execution_count": 343,
     "metadata": {},
     "output_type": "execute_result"
    }
   ],
   "source": [
    "dataset.isnull().sum()"
   ]
  },
  {
   "cell_type": "code",
   "execution_count": 344,
   "metadata": {},
   "outputs": [],
   "source": [
    "dataset.drop(columns=[\"id\",\"int_col\",\"clean_title\"], axis=1, inplace=True)"
   ]
  },
  {
   "cell_type": "code",
   "execution_count": 345,
   "metadata": {},
   "outputs": [
    {
     "data": {
      "text/plain": [
       "(188533, 10)"
      ]
     },
     "execution_count": 345,
     "metadata": {},
     "output_type": "execute_result"
    }
   ],
   "source": [
    "dataset.shape"
   ]
  },
  {
   "cell_type": "code",
   "execution_count": 346,
   "metadata": {},
   "outputs": [],
   "source": [
    "dataset.dropna(inplace=True)"
   ]
  },
  {
   "cell_type": "code",
   "execution_count": 347,
   "metadata": {},
   "outputs": [
    {
     "data": {
      "text/plain": [
       "brand           0\n",
       "model           0\n",
       "model_year      0\n",
       "milage          0\n",
       "fuel_type       0\n",
       "engine          0\n",
       "transmission    0\n",
       "ext_col         0\n",
       "accident        0\n",
       "price           0\n",
       "dtype: int64"
      ]
     },
     "execution_count": 347,
     "metadata": {},
     "output_type": "execute_result"
    }
   ],
   "source": [
    "dataset.isnull().sum()"
   ]
  },
  {
   "cell_type": "code",
   "execution_count": 348,
   "metadata": {},
   "outputs": [
    {
     "data": {
      "text/plain": [
       "(181067, 10)"
      ]
     },
     "execution_count": 348,
     "metadata": {},
     "output_type": "execute_result"
    }
   ],
   "source": [
    "dataset.shape"
   ]
  },
  {
   "cell_type": "code",
   "execution_count": 349,
   "metadata": {},
   "outputs": [
    {
     "data": {
      "text/plain": [
       "fuel_type\n",
       "Gasoline          163853\n",
       "Hybrid              6741\n",
       "E85 Flex Fuel       5328\n",
       "Diesel              3854\n",
       "–                    764\n",
       "Plug-In Hybrid       512\n",
       "not supported         15\n",
       "Name: count, dtype: int64"
      ]
     },
     "execution_count": 349,
     "metadata": {},
     "output_type": "execute_result"
    }
   ],
   "source": [
    "dataset[\"fuel_type\"].value_counts()"
   ]
  },
  {
   "cell_type": "code",
   "execution_count": 350,
   "metadata": {},
   "outputs": [],
   "source": [
    "dataset=dataset[dataset[\"fuel_type\"]!=\"-\"]"
   ]
  },
  {
   "cell_type": "code",
   "execution_count": 351,
   "metadata": {},
   "outputs": [
    {
     "data": {
      "text/plain": [
       "fuel_type\n",
       "Gasoline          163853\n",
       "Hybrid              6741\n",
       "E85 Flex Fuel       5328\n",
       "Diesel              3854\n",
       "–                    764\n",
       "Plug-In Hybrid       512\n",
       "not supported         15\n",
       "Name: count, dtype: int64"
      ]
     },
     "execution_count": 351,
     "metadata": {},
     "output_type": "execute_result"
    }
   ],
   "source": [
    "dataset[\"fuel_type\"].value_counts()"
   ]
  },
  {
   "cell_type": "code",
   "execution_count": 352,
   "metadata": {},
   "outputs": [],
   "source": [
    "# Drop rows where 'fuel_type' is '-'\n",
    "dataset = dataset[dataset[\"fuel_type\"] != \"–\"]  # Note that it's a long dash '–' (not a regular hyphen '-')\n",
    "\n",
    "# Alternatively using .loc:\n",
    "# dataset = dataset.loc[dataset[\"fuel_type\"] != \"–\"]\n"
   ]
  },
  {
   "cell_type": "code",
   "execution_count": 353,
   "metadata": {},
   "outputs": [
    {
     "data": {
      "text/plain": [
       "fuel_type\n",
       "Gasoline          163853\n",
       "Hybrid              6741\n",
       "E85 Flex Fuel       5328\n",
       "Diesel              3854\n",
       "Plug-In Hybrid       512\n",
       "not supported         15\n",
       "Name: count, dtype: int64"
      ]
     },
     "execution_count": 353,
     "metadata": {},
     "output_type": "execute_result"
    }
   ],
   "source": [
    "dataset[\"fuel_type\"].value_counts()"
   ]
  },
  {
   "cell_type": "code",
   "execution_count": 354,
   "metadata": {},
   "outputs": [
    {
     "data": {
      "text/plain": [
       "(180303, 10)"
      ]
     },
     "execution_count": 354,
     "metadata": {},
     "output_type": "execute_result"
    }
   ],
   "source": [
    "dataset.shape"
   ]
  },
  {
   "cell_type": "code",
   "execution_count": 355,
   "metadata": {},
   "outputs": [
    {
     "data": {
      "text/html": [
       "<div>\n",
       "<style scoped>\n",
       "    .dataframe tbody tr th:only-of-type {\n",
       "        vertical-align: middle;\n",
       "    }\n",
       "\n",
       "    .dataframe tbody tr th {\n",
       "        vertical-align: top;\n",
       "    }\n",
       "\n",
       "    .dataframe thead th {\n",
       "        text-align: right;\n",
       "    }\n",
       "</style>\n",
       "<table border=\"1\" class=\"dataframe\">\n",
       "  <thead>\n",
       "    <tr style=\"text-align: right;\">\n",
       "      <th></th>\n",
       "      <th>brand</th>\n",
       "      <th>model</th>\n",
       "      <th>model_year</th>\n",
       "      <th>milage</th>\n",
       "      <th>fuel_type</th>\n",
       "      <th>engine</th>\n",
       "      <th>transmission</th>\n",
       "      <th>ext_col</th>\n",
       "      <th>accident</th>\n",
       "      <th>price</th>\n",
       "    </tr>\n",
       "  </thead>\n",
       "  <tbody>\n",
       "    <tr>\n",
       "      <th>0</th>\n",
       "      <td>MINI</td>\n",
       "      <td>Cooper S Base</td>\n",
       "      <td>2007</td>\n",
       "      <td>213000</td>\n",
       "      <td>Gasoline</td>\n",
       "      <td>172.0HP 1.6L 4 Cylinder Engine Gasoline Fuel</td>\n",
       "      <td>A/T</td>\n",
       "      <td>Yellow</td>\n",
       "      <td>None reported</td>\n",
       "      <td>4200</td>\n",
       "    </tr>\n",
       "    <tr>\n",
       "      <th>1</th>\n",
       "      <td>Lincoln</td>\n",
       "      <td>LS V8</td>\n",
       "      <td>2002</td>\n",
       "      <td>143250</td>\n",
       "      <td>Gasoline</td>\n",
       "      <td>252.0HP 3.9L 8 Cylinder Engine Gasoline Fuel</td>\n",
       "      <td>A/T</td>\n",
       "      <td>Silver</td>\n",
       "      <td>At least 1 accident or damage reported</td>\n",
       "      <td>4999</td>\n",
       "    </tr>\n",
       "    <tr>\n",
       "      <th>2</th>\n",
       "      <td>Chevrolet</td>\n",
       "      <td>Silverado 2500 LT</td>\n",
       "      <td>2002</td>\n",
       "      <td>136731</td>\n",
       "      <td>E85 Flex Fuel</td>\n",
       "      <td>320.0HP 5.3L 8 Cylinder Engine Flex Fuel Capab...</td>\n",
       "      <td>A/T</td>\n",
       "      <td>Blue</td>\n",
       "      <td>None reported</td>\n",
       "      <td>13900</td>\n",
       "    </tr>\n",
       "    <tr>\n",
       "      <th>3</th>\n",
       "      <td>Genesis</td>\n",
       "      <td>G90 5.0 Ultimate</td>\n",
       "      <td>2017</td>\n",
       "      <td>19500</td>\n",
       "      <td>Gasoline</td>\n",
       "      <td>420.0HP 5.0L 8 Cylinder Engine Gasoline Fuel</td>\n",
       "      <td>Transmission w/Dual Shift Mode</td>\n",
       "      <td>Black</td>\n",
       "      <td>None reported</td>\n",
       "      <td>45000</td>\n",
       "    </tr>\n",
       "    <tr>\n",
       "      <th>4</th>\n",
       "      <td>Mercedes-Benz</td>\n",
       "      <td>Metris Base</td>\n",
       "      <td>2021</td>\n",
       "      <td>7388</td>\n",
       "      <td>Gasoline</td>\n",
       "      <td>208.0HP 2.0L 4 Cylinder Engine Gasoline Fuel</td>\n",
       "      <td>7-Speed A/T</td>\n",
       "      <td>Black</td>\n",
       "      <td>None reported</td>\n",
       "      <td>97500</td>\n",
       "    </tr>\n",
       "  </tbody>\n",
       "</table>\n",
       "</div>"
      ],
      "text/plain": [
       "           brand              model  model_year  milage      fuel_type  \\\n",
       "0           MINI      Cooper S Base        2007  213000       Gasoline   \n",
       "1        Lincoln              LS V8        2002  143250       Gasoline   \n",
       "2      Chevrolet  Silverado 2500 LT        2002  136731  E85 Flex Fuel   \n",
       "3        Genesis   G90 5.0 Ultimate        2017   19500       Gasoline   \n",
       "4  Mercedes-Benz        Metris Base        2021    7388       Gasoline   \n",
       "\n",
       "                                              engine  \\\n",
       "0       172.0HP 1.6L 4 Cylinder Engine Gasoline Fuel   \n",
       "1       252.0HP 3.9L 8 Cylinder Engine Gasoline Fuel   \n",
       "2  320.0HP 5.3L 8 Cylinder Engine Flex Fuel Capab...   \n",
       "3       420.0HP 5.0L 8 Cylinder Engine Gasoline Fuel   \n",
       "4       208.0HP 2.0L 4 Cylinder Engine Gasoline Fuel   \n",
       "\n",
       "                     transmission ext_col  \\\n",
       "0                             A/T  Yellow   \n",
       "1                             A/T  Silver   \n",
       "2                             A/T    Blue   \n",
       "3  Transmission w/Dual Shift Mode   Black   \n",
       "4                     7-Speed A/T   Black   \n",
       "\n",
       "                                 accident  price  \n",
       "0                           None reported   4200  \n",
       "1  At least 1 accident or damage reported   4999  \n",
       "2                           None reported  13900  \n",
       "3                           None reported  45000  \n",
       "4                           None reported  97500  "
      ]
     },
     "execution_count": 355,
     "metadata": {},
     "output_type": "execute_result"
    }
   ],
   "source": [
    "dataset.head()"
   ]
  },
  {
   "cell_type": "code",
   "execution_count": 356,
   "metadata": {},
   "outputs": [
    {
     "data": {
      "text/plain": [
       "brand\n",
       "Ford             22238\n",
       "Mercedes-Benz    18929\n",
       "BMW              16768\n",
       "Chevrolet        16036\n",
       "Audi             10667\n",
       "Porsche          10169\n",
       "Land              9417\n",
       "Toyota            8674\n",
       "Lexus             8573\n",
       "Jeep              6281\n",
       "Cadillac          4569\n",
       "RAM               4169\n",
       "Nissan            3802\n",
       "INFINITI          3235\n",
       "GMC               3138\n",
       "Dodge             2878\n",
       "Mazda             2635\n",
       "Kia               2396\n",
       "Lincoln           2388\n",
       "Subaru            2369\n",
       "Acura             2236\n",
       "Honda             2047\n",
       "Hyundai           1980\n",
       "Volkswagen        1715\n",
       "Jaguar            1282\n",
       "Bentley           1122\n",
       "MINI              1049\n",
       "Genesis            951\n",
       "Buick              927\n",
       "Maserati           926\n",
       "Lamborghini        792\n",
       "Volvo              695\n",
       "Chrysler           684\n",
       "Alfa               664\n",
       "Rolls-Royce        550\n",
       "Mitsubishi         542\n",
       "Pontiac            532\n",
       "Hummer             516\n",
       "Tesla              371\n",
       "Ferrari            349\n",
       "McLaren            241\n",
       "Aston              235\n",
       "Saturn             145\n",
       "Scion              118\n",
       "Rivian              90\n",
       "Mercury             52\n",
       "Lotus               50\n",
       "FIAT                39\n",
       "Saab                22\n",
       "Lucid               17\n",
       "Suzuki               8\n",
       "Plymouth             7\n",
       "Bugatti              7\n",
       "Karma                5\n",
       "Maybach              2\n",
       "smart                2\n",
       "Polestar             2\n",
       "Name: count, dtype: int64"
      ]
     },
     "execution_count": 356,
     "metadata": {},
     "output_type": "execute_result"
    }
   ],
   "source": [
    "dataset[\"brand\"].value_counts()"
   ]
  },
  {
   "cell_type": "code",
   "execution_count": 357,
   "metadata": {},
   "outputs": [
    {
     "data": {
      "text/plain": [
       "ext_col\n",
       "Black                    46884\n",
       "White                    41899\n",
       "Gray                     24033\n",
       "Silver                   16283\n",
       "Blue                     13849\n",
       "                         ...  \n",
       "Dark Gray Metallic           5\n",
       "Frozen White                 5\n",
       "Thunder Gray                 4\n",
       "BLUE                         2\n",
       "Mango Tango Pearlcoat        1\n",
       "Name: count, Length: 319, dtype: int64"
      ]
     },
     "execution_count": 357,
     "metadata": {},
     "output_type": "execute_result"
    }
   ],
   "source": [
    "dataset[\"ext_col\"].value_counts()"
   ]
  },
  {
   "cell_type": "code",
   "execution_count": 358,
   "metadata": {},
   "outputs": [
    {
     "data": {
      "text/plain": [
       "engine\n",
       "355.0HP 5.3L 8 Cylinder Engine Gasoline Fuel           3451\n",
       "240.0HP 2.0L 4 Cylinder Engine Gasoline Fuel           2876\n",
       "420.0HP 6.2L 8 Cylinder Engine Gasoline Fuel           2805\n",
       "2.0L I4 16V GDI DOHC Turbo                             2633\n",
       "375.0HP 3.5L V6 Cylinder Engine Gasoline Fuel          2430\n",
       "                                                       ... \n",
       "500.0HP Electric Motor Electric Fuel System               1\n",
       "443.0HP 4.4L 8 Cylinder Engine Gasoline Fuel              1\n",
       "139.0HP 1.6L 4 Cylinder Engine Gas/Electric Hybrid        1\n",
       "533.0HP Electric Motor Electric Fuel System               1\n",
       "313.0HP 2.0L 4 Cylinder Engine Plug-In Electric/Gas       1\n",
       "Name: count, Length: 1108, dtype: int64"
      ]
     },
     "execution_count": 358,
     "metadata": {},
     "output_type": "execute_result"
    }
   ],
   "source": [
    "dataset[\"engine\"].value_counts()"
   ]
  },
  {
   "cell_type": "code",
   "execution_count": 359,
   "metadata": {},
   "outputs": [
    {
     "data": {
      "text/plain": [
       "accident\n",
       "None reported                             139241\n",
       "At least 1 accident or damage reported     41062\n",
       "Name: count, dtype: int64"
      ]
     },
     "execution_count": 359,
     "metadata": {},
     "output_type": "execute_result"
    }
   ],
   "source": [
    "dataset[\"accident\"].value_counts()"
   ]
  },
  {
   "cell_type": "code",
   "execution_count": 360,
   "metadata": {},
   "outputs": [],
   "source": [
    "dataset['accident'].replace({\"None reported\": \"0\",\"At least 1 accident or damage reported\": \"1\"}, inplace=True)"
   ]
  },
  {
   "cell_type": "code",
   "execution_count": 361,
   "metadata": {},
   "outputs": [
    {
     "data": {
      "text/html": [
       "<div>\n",
       "<style scoped>\n",
       "    .dataframe tbody tr th:only-of-type {\n",
       "        vertical-align: middle;\n",
       "    }\n",
       "\n",
       "    .dataframe tbody tr th {\n",
       "        vertical-align: top;\n",
       "    }\n",
       "\n",
       "    .dataframe thead th {\n",
       "        text-align: right;\n",
       "    }\n",
       "</style>\n",
       "<table border=\"1\" class=\"dataframe\">\n",
       "  <thead>\n",
       "    <tr style=\"text-align: right;\">\n",
       "      <th></th>\n",
       "      <th>brand</th>\n",
       "      <th>model</th>\n",
       "      <th>model_year</th>\n",
       "      <th>milage</th>\n",
       "      <th>fuel_type</th>\n",
       "      <th>engine</th>\n",
       "      <th>transmission</th>\n",
       "      <th>ext_col</th>\n",
       "      <th>accident</th>\n",
       "      <th>price</th>\n",
       "    </tr>\n",
       "  </thead>\n",
       "  <tbody>\n",
       "    <tr>\n",
       "      <th>0</th>\n",
       "      <td>MINI</td>\n",
       "      <td>Cooper S Base</td>\n",
       "      <td>2007</td>\n",
       "      <td>213000</td>\n",
       "      <td>Gasoline</td>\n",
       "      <td>172.0HP 1.6L 4 Cylinder Engine Gasoline Fuel</td>\n",
       "      <td>A/T</td>\n",
       "      <td>Yellow</td>\n",
       "      <td>0</td>\n",
       "      <td>4200</td>\n",
       "    </tr>\n",
       "    <tr>\n",
       "      <th>1</th>\n",
       "      <td>Lincoln</td>\n",
       "      <td>LS V8</td>\n",
       "      <td>2002</td>\n",
       "      <td>143250</td>\n",
       "      <td>Gasoline</td>\n",
       "      <td>252.0HP 3.9L 8 Cylinder Engine Gasoline Fuel</td>\n",
       "      <td>A/T</td>\n",
       "      <td>Silver</td>\n",
       "      <td>1</td>\n",
       "      <td>4999</td>\n",
       "    </tr>\n",
       "    <tr>\n",
       "      <th>2</th>\n",
       "      <td>Chevrolet</td>\n",
       "      <td>Silverado 2500 LT</td>\n",
       "      <td>2002</td>\n",
       "      <td>136731</td>\n",
       "      <td>E85 Flex Fuel</td>\n",
       "      <td>320.0HP 5.3L 8 Cylinder Engine Flex Fuel Capab...</td>\n",
       "      <td>A/T</td>\n",
       "      <td>Blue</td>\n",
       "      <td>0</td>\n",
       "      <td>13900</td>\n",
       "    </tr>\n",
       "    <tr>\n",
       "      <th>3</th>\n",
       "      <td>Genesis</td>\n",
       "      <td>G90 5.0 Ultimate</td>\n",
       "      <td>2017</td>\n",
       "      <td>19500</td>\n",
       "      <td>Gasoline</td>\n",
       "      <td>420.0HP 5.0L 8 Cylinder Engine Gasoline Fuel</td>\n",
       "      <td>Transmission w/Dual Shift Mode</td>\n",
       "      <td>Black</td>\n",
       "      <td>0</td>\n",
       "      <td>45000</td>\n",
       "    </tr>\n",
       "    <tr>\n",
       "      <th>4</th>\n",
       "      <td>Mercedes-Benz</td>\n",
       "      <td>Metris Base</td>\n",
       "      <td>2021</td>\n",
       "      <td>7388</td>\n",
       "      <td>Gasoline</td>\n",
       "      <td>208.0HP 2.0L 4 Cylinder Engine Gasoline Fuel</td>\n",
       "      <td>7-Speed A/T</td>\n",
       "      <td>Black</td>\n",
       "      <td>0</td>\n",
       "      <td>97500</td>\n",
       "    </tr>\n",
       "  </tbody>\n",
       "</table>\n",
       "</div>"
      ],
      "text/plain": [
       "           brand              model  model_year  milage      fuel_type  \\\n",
       "0           MINI      Cooper S Base        2007  213000       Gasoline   \n",
       "1        Lincoln              LS V8        2002  143250       Gasoline   \n",
       "2      Chevrolet  Silverado 2500 LT        2002  136731  E85 Flex Fuel   \n",
       "3        Genesis   G90 5.0 Ultimate        2017   19500       Gasoline   \n",
       "4  Mercedes-Benz        Metris Base        2021    7388       Gasoline   \n",
       "\n",
       "                                              engine  \\\n",
       "0       172.0HP 1.6L 4 Cylinder Engine Gasoline Fuel   \n",
       "1       252.0HP 3.9L 8 Cylinder Engine Gasoline Fuel   \n",
       "2  320.0HP 5.3L 8 Cylinder Engine Flex Fuel Capab...   \n",
       "3       420.0HP 5.0L 8 Cylinder Engine Gasoline Fuel   \n",
       "4       208.0HP 2.0L 4 Cylinder Engine Gasoline Fuel   \n",
       "\n",
       "                     transmission ext_col accident  price  \n",
       "0                             A/T  Yellow        0   4200  \n",
       "1                             A/T  Silver        1   4999  \n",
       "2                             A/T    Blue        0  13900  \n",
       "3  Transmission w/Dual Shift Mode   Black        0  45000  \n",
       "4                     7-Speed A/T   Black        0  97500  "
      ]
     },
     "execution_count": 361,
     "metadata": {},
     "output_type": "execute_result"
    }
   ],
   "source": [
    "dataset.head()"
   ]
  },
  {
   "cell_type": "code",
   "execution_count": 362,
   "metadata": {},
   "outputs": [
    {
     "data": {
      "text/plain": [
       "transmission\n",
       "A/T                                                   46617\n",
       "8-Speed A/T                                           20248\n",
       "Transmission w/Dual Shift Mode                        18981\n",
       "6-Speed A/T                                           17854\n",
       "6-Speed M/T                                           11751\n",
       "7-Speed A/T                                           10967\n",
       "Automatic                                             10170\n",
       "8-Speed Automatic                                      8175\n",
       "10-Speed A/T                                           7915\n",
       "9-Speed A/T                                            3806\n",
       "5-Speed A/T                                            3149\n",
       "10-Speed Automatic                                     3037\n",
       "6-Speed Automatic                                      2704\n",
       "4-Speed A/T                                            2460\n",
       "5-Speed M/T                                            2317\n",
       "9-Speed Automatic                                      2276\n",
       "CVT Transmission                                       1960\n",
       "7-Speed Automatic with Auto-Shift                      1157\n",
       "M/T                                                    1141\n",
       "Automatic CVT                                           815\n",
       "8-Speed Automatic with Auto-Shift                       538\n",
       "7-Speed M/T                                             342\n",
       "6-Speed Manual                                          196\n",
       "1-Speed A/T                                             191\n",
       "7-Speed Automatic                                       174\n",
       "5-Speed Automatic                                       158\n",
       "Transmission Overdrive Switch                           156\n",
       "7-Speed Manual                                          146\n",
       "6-Speed Automatic with Auto-Shift                       109\n",
       "1-Speed Automatic                                       107\n",
       "2                                                        87\n",
       "–                                                        74\n",
       "Variable                                                 65\n",
       "F                                                        62\n",
       "4-Speed Automatic                                        45\n",
       "10-Speed Automatic with Overdrive                        39\n",
       "6 Speed Mt                                               36\n",
       "9-Speed Automatic with Auto-Shift                        32\n",
       "6-Speed Electronically Controlled Automatic with O       31\n",
       "7-Speed                                                  29\n",
       "8-Speed Manual                                           28\n",
       "Manual                                                   27\n",
       "6-Speed                                                  26\n",
       "6 Speed At/Mt                                            20\n",
       "7-Speed DCT Automatic                                    18\n",
       "2-Speed A/T                                              15\n",
       "CVT-F                                                    14\n",
       "8-SPEED AT                                               13\n",
       "2-Speed Automatic                                         8\n",
       "8-SPEED A/T                                               7\n",
       "SCHEDULED FOR OR IN PRODUCTION                            6\n",
       "Single-Speed Fixed Gear                                   4\n",
       "Name: count, dtype: int64"
      ]
     },
     "execution_count": 362,
     "metadata": {},
     "output_type": "execute_result"
    }
   ],
   "source": [
    "dataset[\"transmission\"].value_counts()"
   ]
  },
  {
   "cell_type": "code",
   "execution_count": 363,
   "metadata": {},
   "outputs": [],
   "source": [
    "Lb=LabelEncoder()"
   ]
  },
  {
   "cell_type": "code",
   "execution_count": 364,
   "metadata": {},
   "outputs": [],
   "source": [
    "dataset[\"brand\"]=Lb.fit_transform(dataset[\"brand\"])\n",
    "dataset[\"model\"]=Lb.fit_transform(dataset[\"model\"])\n",
    "dataset[\"fuel_type\"]=Lb.fit_transform(dataset[\"fuel_type\"])\n",
    "dataset[\"transmission\"]=Lb.fit_transform(dataset[\"transmission\"])\n",
    "dataset[\"ext_col\"]=Lb.fit_transform(dataset[\"ext_col\"])\n",
    "dataset[\"engine\"]=Lb.fit_transform(dataset[\"engine\"])\n"
   ]
  },
  {
   "cell_type": "code",
   "execution_count": 365,
   "metadata": {},
   "outputs": [
    {
     "data": {
      "text/html": [
       "<div>\n",
       "<style scoped>\n",
       "    .dataframe tbody tr th:only-of-type {\n",
       "        vertical-align: middle;\n",
       "    }\n",
       "\n",
       "    .dataframe tbody tr th {\n",
       "        vertical-align: top;\n",
       "    }\n",
       "\n",
       "    .dataframe thead th {\n",
       "        text-align: right;\n",
       "    }\n",
       "</style>\n",
       "<table border=\"1\" class=\"dataframe\">\n",
       "  <thead>\n",
       "    <tr style=\"text-align: right;\">\n",
       "      <th></th>\n",
       "      <th>brand</th>\n",
       "      <th>model</th>\n",
       "      <th>model_year</th>\n",
       "      <th>milage</th>\n",
       "      <th>fuel_type</th>\n",
       "      <th>engine</th>\n",
       "      <th>transmission</th>\n",
       "      <th>ext_col</th>\n",
       "      <th>accident</th>\n",
       "      <th>price</th>\n",
       "    </tr>\n",
       "  </thead>\n",
       "  <tbody>\n",
       "    <tr>\n",
       "      <th>0</th>\n",
       "      <td>31</td>\n",
       "      <td>493</td>\n",
       "      <td>2007</td>\n",
       "      <td>213000</td>\n",
       "      <td>2</td>\n",
       "      <td>112</td>\n",
       "      <td>38</td>\n",
       "      <td>312</td>\n",
       "      <td>0</td>\n",
       "      <td>4200</td>\n",
       "    </tr>\n",
       "    <tr>\n",
       "      <th>1</th>\n",
       "      <td>28</td>\n",
       "      <td>926</td>\n",
       "      <td>2002</td>\n",
       "      <td>143250</td>\n",
       "      <td>2</td>\n",
       "      <td>360</td>\n",
       "      <td>38</td>\n",
       "      <td>263</td>\n",
       "      <td>1</td>\n",
       "      <td>4999</td>\n",
       "    </tr>\n",
       "    <tr>\n",
       "      <th>2</th>\n",
       "      <td>9</td>\n",
       "      <td>1569</td>\n",
       "      <td>2002</td>\n",
       "      <td>136731</td>\n",
       "      <td>1</td>\n",
       "      <td>633</td>\n",
       "      <td>38</td>\n",
       "      <td>38</td>\n",
       "      <td>0</td>\n",
       "      <td>13900</td>\n",
       "    </tr>\n",
       "    <tr>\n",
       "      <th>3</th>\n",
       "      <td>16</td>\n",
       "      <td>755</td>\n",
       "      <td>2017</td>\n",
       "      <td>19500</td>\n",
       "      <td>2</td>\n",
       "      <td>855</td>\n",
       "      <td>49</td>\n",
       "      <td>29</td>\n",
       "      <td>0</td>\n",
       "      <td>45000</td>\n",
       "    </tr>\n",
       "    <tr>\n",
       "      <th>4</th>\n",
       "      <td>36</td>\n",
       "      <td>1073</td>\n",
       "      <td>2021</td>\n",
       "      <td>7388</td>\n",
       "      <td>2</td>\n",
       "      <td>254</td>\n",
       "      <td>23</td>\n",
       "      <td>29</td>\n",
       "      <td>0</td>\n",
       "      <td>97500</td>\n",
       "    </tr>\n",
       "  </tbody>\n",
       "</table>\n",
       "</div>"
      ],
      "text/plain": [
       "   brand  model  model_year  milage  fuel_type  engine  transmission  ext_col  \\\n",
       "0     31    493        2007  213000          2     112            38      312   \n",
       "1     28    926        2002  143250          2     360            38      263   \n",
       "2      9   1569        2002  136731          1     633            38       38   \n",
       "3     16    755        2017   19500          2     855            49       29   \n",
       "4     36   1073        2021    7388          2     254            23       29   \n",
       "\n",
       "  accident  price  \n",
       "0        0   4200  \n",
       "1        1   4999  \n",
       "2        0  13900  \n",
       "3        0  45000  \n",
       "4        0  97500  "
      ]
     },
     "execution_count": 365,
     "metadata": {},
     "output_type": "execute_result"
    }
   ],
   "source": [
    "dataset.head()"
   ]
  },
  {
   "cell_type": "code",
   "execution_count": 366,
   "metadata": {},
   "outputs": [
    {
     "data": {
      "text/html": [
       "<div>\n",
       "<style scoped>\n",
       "    .dataframe tbody tr th:only-of-type {\n",
       "        vertical-align: middle;\n",
       "    }\n",
       "\n",
       "    .dataframe tbody tr th {\n",
       "        vertical-align: top;\n",
       "    }\n",
       "\n",
       "    .dataframe thead th {\n",
       "        text-align: right;\n",
       "    }\n",
       "</style>\n",
       "<table border=\"1\" class=\"dataframe\">\n",
       "  <thead>\n",
       "    <tr style=\"text-align: right;\">\n",
       "      <th></th>\n",
       "      <th>brand</th>\n",
       "      <th>model</th>\n",
       "      <th>model_year</th>\n",
       "      <th>milage</th>\n",
       "      <th>fuel_type</th>\n",
       "      <th>engine</th>\n",
       "      <th>transmission</th>\n",
       "      <th>ext_col</th>\n",
       "      <th>price</th>\n",
       "    </tr>\n",
       "  </thead>\n",
       "  <tbody>\n",
       "    <tr>\n",
       "      <th>count</th>\n",
       "      <td>180303.000000</td>\n",
       "      <td>180303.000000</td>\n",
       "      <td>180303.000000</td>\n",
       "      <td>180303.000000</td>\n",
       "      <td>180303.000000</td>\n",
       "      <td>180303.000000</td>\n",
       "      <td>180303.000000</td>\n",
       "      <td>180303.000000</td>\n",
       "      <td>1.803030e+05</td>\n",
       "    </tr>\n",
       "    <tr>\n",
       "      <th>mean</th>\n",
       "      <td>22.585592</td>\n",
       "      <td>856.770448</td>\n",
       "      <td>2015.732694</td>\n",
       "      <td>66794.954260</td>\n",
       "      <td>1.971015</td>\n",
       "      <td>595.196602</td>\n",
       "      <td>29.876464</td>\n",
       "      <td>157.124679</td>\n",
       "      <td>4.329056e+04</td>\n",
       "    </tr>\n",
       "    <tr>\n",
       "      <th>std</th>\n",
       "      <td>15.509465</td>\n",
       "      <td>523.715563</td>\n",
       "      <td>5.596915</td>\n",
       "      <td>49849.996723</td>\n",
       "      <td>0.404606</td>\n",
       "      <td>271.768805</td>\n",
       "      <td>12.766217</td>\n",
       "      <td>114.706075</td>\n",
       "      <td>7.840468e+04</td>\n",
       "    </tr>\n",
       "    <tr>\n",
       "      <th>min</th>\n",
       "      <td>0.000000</td>\n",
       "      <td>0.000000</td>\n",
       "      <td>1974.000000</td>\n",
       "      <td>100.000000</td>\n",
       "      <td>0.000000</td>\n",
       "      <td>0.000000</td>\n",
       "      <td>0.000000</td>\n",
       "      <td>0.000000</td>\n",
       "      <td>2.000000e+03</td>\n",
       "    </tr>\n",
       "    <tr>\n",
       "      <th>25%</th>\n",
       "      <td>9.000000</td>\n",
       "      <td>421.000000</td>\n",
       "      <td>2013.000000</td>\n",
       "      <td>25000.000000</td>\n",
       "      <td>2.000000</td>\n",
       "      <td>371.000000</td>\n",
       "      <td>20.000000</td>\n",
       "      <td>29.000000</td>\n",
       "      <td>1.680000e+04</td>\n",
       "    </tr>\n",
       "    <tr>\n",
       "      <th>50%</th>\n",
       "      <td>20.000000</td>\n",
       "      <td>792.000000</td>\n",
       "      <td>2017.000000</td>\n",
       "      <td>59300.000000</td>\n",
       "      <td>2.000000</td>\n",
       "      <td>605.000000</td>\n",
       "      <td>32.000000</td>\n",
       "      <td>128.000000</td>\n",
       "      <td>3.000000e+04</td>\n",
       "    </tr>\n",
       "    <tr>\n",
       "      <th>75%</th>\n",
       "      <td>36.000000</td>\n",
       "      <td>1317.000000</td>\n",
       "      <td>2020.000000</td>\n",
       "      <td>96473.000000</td>\n",
       "      <td>2.000000</td>\n",
       "      <td>820.000000</td>\n",
       "      <td>38.000000</td>\n",
       "      <td>281.000000</td>\n",
       "      <td>4.881500e+04</td>\n",
       "    </tr>\n",
       "    <tr>\n",
       "      <th>max</th>\n",
       "      <td>56.000000</td>\n",
       "      <td>1886.000000</td>\n",
       "      <td>2024.000000</td>\n",
       "      <td>405000.000000</td>\n",
       "      <td>5.000000</td>\n",
       "      <td>1107.000000</td>\n",
       "      <td>51.000000</td>\n",
       "      <td>318.000000</td>\n",
       "      <td>2.954083e+06</td>\n",
       "    </tr>\n",
       "  </tbody>\n",
       "</table>\n",
       "</div>"
      ],
      "text/plain": [
       "               brand          model     model_year         milage  \\\n",
       "count  180303.000000  180303.000000  180303.000000  180303.000000   \n",
       "mean       22.585592     856.770448    2015.732694   66794.954260   \n",
       "std        15.509465     523.715563       5.596915   49849.996723   \n",
       "min         0.000000       0.000000    1974.000000     100.000000   \n",
       "25%         9.000000     421.000000    2013.000000   25000.000000   \n",
       "50%        20.000000     792.000000    2017.000000   59300.000000   \n",
       "75%        36.000000    1317.000000    2020.000000   96473.000000   \n",
       "max        56.000000    1886.000000    2024.000000  405000.000000   \n",
       "\n",
       "           fuel_type         engine   transmission        ext_col  \\\n",
       "count  180303.000000  180303.000000  180303.000000  180303.000000   \n",
       "mean        1.971015     595.196602      29.876464     157.124679   \n",
       "std         0.404606     271.768805      12.766217     114.706075   \n",
       "min         0.000000       0.000000       0.000000       0.000000   \n",
       "25%         2.000000     371.000000      20.000000      29.000000   \n",
       "50%         2.000000     605.000000      32.000000     128.000000   \n",
       "75%         2.000000     820.000000      38.000000     281.000000   \n",
       "max         5.000000    1107.000000      51.000000     318.000000   \n",
       "\n",
       "              price  \n",
       "count  1.803030e+05  \n",
       "mean   4.329056e+04  \n",
       "std    7.840468e+04  \n",
       "min    2.000000e+03  \n",
       "25%    1.680000e+04  \n",
       "50%    3.000000e+04  \n",
       "75%    4.881500e+04  \n",
       "max    2.954083e+06  "
      ]
     },
     "execution_count": 366,
     "metadata": {},
     "output_type": "execute_result"
    }
   ],
   "source": [
    "dataset.describe()"
   ]
  },
  {
   "cell_type": "code",
   "execution_count": 367,
   "metadata": {},
   "outputs": [],
   "source": [
    "X=dataset.drop(\"price\",axis=1)\n",
    "Y=dataset[\"price\"]"
   ]
  },
  {
   "cell_type": "code",
   "execution_count": 368,
   "metadata": {},
   "outputs": [
    {
     "data": {
      "text/plain": [
       "0     4200\n",
       "1     4999\n",
       "2    13900\n",
       "3    45000\n",
       "4    97500\n",
       "Name: price, dtype: int64"
      ]
     },
     "execution_count": 368,
     "metadata": {},
     "output_type": "execute_result"
    }
   ],
   "source": [
    "Y.head()"
   ]
  },
  {
   "cell_type": "code",
   "execution_count": 369,
   "metadata": {},
   "outputs": [],
   "source": [
    "regresoo=RandomForestRegressor(       # Increase or decrease this based on dataset size\n",
    "    max_depth=10,\n",
    "    max_features='sqrt',  # Limit the number of features at each split\n",
    "    random_state=42)"
   ]
  },
  {
   "cell_type": "code",
   "execution_count": 370,
   "metadata": {},
   "outputs": [],
   "source": [
    "X_train,X_test,Y_train,Y_test=train_test_split(X,Y,test_size=0.2,random_state=42)"
   ]
  },
  {
   "cell_type": "code",
   "execution_count": 333,
   "metadata": {},
   "outputs": [],
   "source": []
  },
  {
   "cell_type": "code",
   "execution_count": null,
   "metadata": {},
   "outputs": [],
   "source": []
  },
  {
   "cell_type": "code",
   "execution_count": 213,
   "metadata": {},
   "outputs": [],
   "source": []
  },
  {
   "cell_type": "code",
   "execution_count": 371,
   "metadata": {},
   "outputs": [
    {
     "data": {
      "text/plain": [
       "((144242, 9), (36061, 9), (144242,), (36061,))"
      ]
     },
     "execution_count": 371,
     "metadata": {},
     "output_type": "execute_result"
    }
   ],
   "source": [
    "X_train.shape,X_test.shape,Y_train.shape,Y_test.shape"
   ]
  },
  {
   "cell_type": "code",
   "execution_count": 372,
   "metadata": {},
   "outputs": [
    {
     "data": {
      "text/html": [
       "<style>#sk-container-id-6 {color: black;}#sk-container-id-6 pre{padding: 0;}#sk-container-id-6 div.sk-toggleable {background-color: white;}#sk-container-id-6 label.sk-toggleable__label {cursor: pointer;display: block;width: 100%;margin-bottom: 0;padding: 0.3em;box-sizing: border-box;text-align: center;}#sk-container-id-6 label.sk-toggleable__label-arrow:before {content: \"▸\";float: left;margin-right: 0.25em;color: #696969;}#sk-container-id-6 label.sk-toggleable__label-arrow:hover:before {color: black;}#sk-container-id-6 div.sk-estimator:hover label.sk-toggleable__label-arrow:before {color: black;}#sk-container-id-6 div.sk-toggleable__content {max-height: 0;max-width: 0;overflow: hidden;text-align: left;background-color: #f0f8ff;}#sk-container-id-6 div.sk-toggleable__content pre {margin: 0.2em;color: black;border-radius: 0.25em;background-color: #f0f8ff;}#sk-container-id-6 input.sk-toggleable__control:checked~div.sk-toggleable__content {max-height: 200px;max-width: 100%;overflow: auto;}#sk-container-id-6 input.sk-toggleable__control:checked~label.sk-toggleable__label-arrow:before {content: \"▾\";}#sk-container-id-6 div.sk-estimator input.sk-toggleable__control:checked~label.sk-toggleable__label {background-color: #d4ebff;}#sk-container-id-6 div.sk-label input.sk-toggleable__control:checked~label.sk-toggleable__label {background-color: #d4ebff;}#sk-container-id-6 input.sk-hidden--visually {border: 0;clip: rect(1px 1px 1px 1px);clip: rect(1px, 1px, 1px, 1px);height: 1px;margin: -1px;overflow: hidden;padding: 0;position: absolute;width: 1px;}#sk-container-id-6 div.sk-estimator {font-family: monospace;background-color: #f0f8ff;border: 1px dotted black;border-radius: 0.25em;box-sizing: border-box;margin-bottom: 0.5em;}#sk-container-id-6 div.sk-estimator:hover {background-color: #d4ebff;}#sk-container-id-6 div.sk-parallel-item::after {content: \"\";width: 100%;border-bottom: 1px solid gray;flex-grow: 1;}#sk-container-id-6 div.sk-label:hover label.sk-toggleable__label {background-color: #d4ebff;}#sk-container-id-6 div.sk-serial::before {content: \"\";position: absolute;border-left: 1px solid gray;box-sizing: border-box;top: 0;bottom: 0;left: 50%;z-index: 0;}#sk-container-id-6 div.sk-serial {display: flex;flex-direction: column;align-items: center;background-color: white;padding-right: 0.2em;padding-left: 0.2em;position: relative;}#sk-container-id-6 div.sk-item {position: relative;z-index: 1;}#sk-container-id-6 div.sk-parallel {display: flex;align-items: stretch;justify-content: center;background-color: white;position: relative;}#sk-container-id-6 div.sk-item::before, #sk-container-id-6 div.sk-parallel-item::before {content: \"\";position: absolute;border-left: 1px solid gray;box-sizing: border-box;top: 0;bottom: 0;left: 50%;z-index: -1;}#sk-container-id-6 div.sk-parallel-item {display: flex;flex-direction: column;z-index: 1;position: relative;background-color: white;}#sk-container-id-6 div.sk-parallel-item:first-child::after {align-self: flex-end;width: 50%;}#sk-container-id-6 div.sk-parallel-item:last-child::after {align-self: flex-start;width: 50%;}#sk-container-id-6 div.sk-parallel-item:only-child::after {width: 0;}#sk-container-id-6 div.sk-dashed-wrapped {border: 1px dashed gray;margin: 0 0.4em 0.5em 0.4em;box-sizing: border-box;padding-bottom: 0.4em;background-color: white;}#sk-container-id-6 div.sk-label label {font-family: monospace;font-weight: bold;display: inline-block;line-height: 1.2em;}#sk-container-id-6 div.sk-label-container {text-align: center;}#sk-container-id-6 div.sk-container {/* jupyter's `normalize.less` sets `[hidden] { display: none; }` but bootstrap.min.css set `[hidden] { display: none !important; }` so we also need the `!important` here to be able to override the default hidden behavior on the sphinx rendered scikit-learn.org. See: https://github.com/scikit-learn/scikit-learn/issues/21755 */display: inline-block !important;position: relative;}#sk-container-id-6 div.sk-text-repr-fallback {display: none;}</style><div id=\"sk-container-id-6\" class=\"sk-top-container\"><div class=\"sk-text-repr-fallback\"><pre>RandomForestRegressor(max_depth=10, max_features=&#x27;sqrt&#x27;, random_state=42)</pre><b>In a Jupyter environment, please rerun this cell to show the HTML representation or trust the notebook. <br />On GitHub, the HTML representation is unable to render, please try loading this page with nbviewer.org.</b></div><div class=\"sk-container\" hidden><div class=\"sk-item\"><div class=\"sk-estimator sk-toggleable\"><input class=\"sk-toggleable__control sk-hidden--visually\" id=\"sk-estimator-id-6\" type=\"checkbox\" checked><label for=\"sk-estimator-id-6\" class=\"sk-toggleable__label sk-toggleable__label-arrow\">RandomForestRegressor</label><div class=\"sk-toggleable__content\"><pre>RandomForestRegressor(max_depth=10, max_features=&#x27;sqrt&#x27;, random_state=42)</pre></div></div></div></div></div>"
      ],
      "text/plain": [
       "RandomForestRegressor(max_depth=10, max_features='sqrt', random_state=42)"
      ]
     },
     "execution_count": 372,
     "metadata": {},
     "output_type": "execute_result"
    }
   ],
   "source": [
    "regresoo.fit(X_train,Y_train)"
   ]
  },
  {
   "cell_type": "code",
   "execution_count": 373,
   "metadata": {},
   "outputs": [
    {
     "data": {
      "text/plain": [
       "-2.4540472148882966"
      ]
     },
     "execution_count": 373,
     "metadata": {},
     "output_type": "execute_result"
    }
   ],
   "source": [
    "X_train_pred=regresoo.predict(X_train)\n",
    "r2_score(X_train_pred,Y_train)"
   ]
  },
  {
   "cell_type": "code",
   "execution_count": 374,
   "metadata": {},
   "outputs": [
    {
     "data": {
      "text/plain": [
       "-6.119231247581154"
      ]
     },
     "execution_count": 374,
     "metadata": {},
     "output_type": "execute_result"
    }
   ],
   "source": [
    "X_test_pred=regresoo.predict(X_test)\n",
    "r2_score(X_test_pred,Y_test)"
   ]
  },
  {
   "cell_type": "code",
   "execution_count": 375,
   "metadata": {},
   "outputs": [
    {
     "name": "stdout",
     "output_type": "stream",
     "text": [
      "Cross-validation R² scores: [0.14161794 0.128027   0.12420433 0.1503252  0.17361033]\n",
      "Average R² score: 0.14355696189653905\n"
     ]
    }
   ],
   "source": [
    "scores = cross_val_score(regresoo, X_train, Y_train, cv=5, scoring='r2')\n",
    "print(\"Cross-validation R² scores:\", scores)\n",
    "print(\"Average R² score:\", scores.mean())"
   ]
  },
  {
   "cell_type": "code",
   "execution_count": 379,
   "metadata": {},
   "outputs": [
    {
     "data": {
      "text/plain": [
       "0.13699881039843886"
      ]
     },
     "execution_count": 379,
     "metadata": {},
     "output_type": "execute_result"
    }
   ],
   "source": [
    "result=regresoo.score(X_train,Y_train)\n",
    "result1=regresoo.score(X_test,Y_test)\n",
    "result\n",
    "result1"
   ]
  },
  {
   "cell_type": "code",
   "execution_count": 380,
   "metadata": {},
   "outputs": [
    {
     "data": {
      "text/plain": [
       "(180303, 9)"
      ]
     },
     "execution_count": 380,
     "metadata": {},
     "output_type": "execute_result"
    }
   ],
   "source": [
    "X.shape"
   ]
  },
  {
   "cell_type": "code",
   "execution_count": 381,
   "metadata": {},
   "outputs": [
    {
     "name": "stdout",
     "output_type": "stream",
     "text": [
      "Fitting 5 folds for each of 50 candidates, totalling 250 fits\n",
      "Best parameters found:  {'learning_rate': 0.09957635956735193, 'max_depth': 3, 'min_samples_leaf': 4, 'min_samples_split': 6, 'n_estimators': 200}\n",
      "Training R² score: 0.17935567954115694\n",
      "Testing R² score: 0.1404142350837313\n",
      "Testing MSE: 6132954716.336365\n",
      "Cross-validation R² scores: [0.14965566 0.13451327 0.13078044 0.16226017 0.18407128]\n",
      "Average R² score: 0.15225616249921547\n",
      "        Feature  Importance\n",
      "3        milage    0.572201\n",
      "5        engine    0.188879\n",
      "2    model_year    0.105881\n",
      "1         model    0.060643\n",
      "0         brand    0.035973\n",
      "7       ext_col    0.018276\n",
      "6  transmission    0.012820\n",
      "4     fuel_type    0.003426\n",
      "8      accident    0.001900\n"
     ]
    }
   ],
   "source": [
    "import pandas as pd\n",
    "import numpy as np\n",
    "from sklearn.metrics import r2_score, mean_squared_error\n",
    "from sklearn.preprocessing import LabelEncoder\n",
    "from sklearn.model_selection import train_test_split, RandomizedSearchCV\n",
    "from sklearn.ensemble import GradientBoostingRegressor\n",
    "from scipy.stats import randint, uniform\n",
    "\n",
    "# Load the dataset\n",
    "dataset = pd.read_csv(\"train.csv\")\n",
    "\n",
    "# Data Preprocessing\n",
    "dataset.drop(columns=[\"id\", \"int_col\", \"clean_title\"], axis=1, inplace=True)\n",
    "dataset.dropna(inplace=True)\n",
    "\n",
    "# Drop rows with invalid fuel types\n",
    "dataset = dataset[dataset[\"fuel_type\"].isin([\"-\", \"–\"]) == False]\n",
    "\n",
    "# Replace accident labels with binary values\n",
    "dataset['accident'].replace({\"None reported\": 0, \"At least 1 accident or damage reported\": 1}, inplace=True)\n",
    "\n",
    "# Encode categorical variables\n",
    "label_cols = [\"brand\", \"model\", \"fuel_type\", \"transmission\", \"ext_col\", \"engine\"]\n",
    "Lb = LabelEncoder()\n",
    "for col in label_cols:\n",
    "    dataset[col] = Lb.fit_transform(dataset[col])\n",
    "\n",
    "# Define features and target variable\n",
    "X = dataset.drop(\"price\", axis=1)\n",
    "Y = dataset[\"price\"]\n",
    "\n",
    "# Train-Test Split\n",
    "X_train, X_test, Y_train, Y_test = train_test_split(X, Y, test_size=0.2, random_state=42)\n",
    "\n",
    "# Hyperparameter tuning using RandomizedSearchCV\n",
    "param_dist = {\n",
    "    'n_estimators': [100, 200],\n",
    "    'learning_rate': uniform(0.01, 0.1),  # Random float from 0.01 to 0.1\n",
    "    'max_depth': randint(3, 8),  # Random integer from 3 to 7\n",
    "    'min_samples_split': randint(2, 10),  # Random integer from 2 to 9\n",
    "    'min_samples_leaf': randint(1, 5)  # Random integer from 1 to 4\n",
    "}\n",
    "\n",
    "# Initialize GradientBoostingRegressor\n",
    "model = GradientBoostingRegressor(random_state=42)\n",
    "\n",
    "# Perform RandomizedSearchCV to find the best hyperparameters\n",
    "random_search = RandomizedSearchCV(estimator=model, param_distributions=param_dist, \n",
    "                                   n_iter=50, cv=5, scoring='r2', verbose=2, random_state=42, n_jobs=-1)\n",
    "random_search.fit(X_train, Y_train)\n",
    "\n",
    "# Best parameters from Randomized Search\n",
    "print(\"Best parameters found: \", random_search.best_params_)\n",
    "\n",
    "# Train the model with the best parameters\n",
    "best_model = random_search.best_estimator_\n",
    "best_model.fit(X_train, Y_train)\n",
    "\n",
    "# Predict and evaluate\n",
    "Y_train_pred = best_model.predict(X_train)\n",
    "Y_test_pred = best_model.predict(X_test)\n",
    "\n",
    "# Evaluate the model\n",
    "print(\"Training R² score:\", r2_score(Y_train, Y_train_pred))\n",
    "print(\"Testing R² score:\", r2_score(Y_test, Y_test_pred))\n",
    "print(\"Testing MSE:\", mean_squared_error(Y_test, Y_test_pred))\n",
    "\n",
    "# Optional: Cross-validation scores\n",
    "from sklearn.model_selection import cross_val_score\n",
    "\n",
    "scores = cross_val_score(best_model, X_train, Y_train, cv=5, scoring='r2')\n",
    "print(\"Cross-validation R² scores:\", scores)\n",
    "print(\"Average R² score:\", scores.mean())\n",
    "\n",
    "# Optional: Feature Importance\n",
    "importances = best_model.feature_importances_\n",
    "feature_importance_df = pd.DataFrame({'Feature': X.columns, 'Importance': importances})\n",
    "feature_importance_df = feature_importance_df.sort_values(by='Importance', ascending=False)\n",
    "print(feature_importance_df)\n"
   ]
  },
  {
   "cell_type": "code",
   "execution_count": null,
   "metadata": {},
   "outputs": [],
   "source": []
  },
  {
   "cell_type": "code",
   "execution_count": null,
   "metadata": {},
   "outputs": [],
   "source": []
  }
 ],
 "metadata": {
  "kernelspec": {
   "display_name": "base",
   "language": "python",
   "name": "python3"
  },
  "language_info": {
   "codemirror_mode": {
    "name": "ipython",
    "version": 3
   },
   "file_extension": ".py",
   "mimetype": "text/x-python",
   "name": "python",
   "nbconvert_exporter": "python",
   "pygments_lexer": "ipython3",
   "version": "3.11.5"
  }
 },
 "nbformat": 4,
 "nbformat_minor": 2
}
